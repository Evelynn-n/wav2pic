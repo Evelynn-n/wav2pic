{
 "cells": [
  {
   "cell_type": "code",
   "execution_count": 1,
   "metadata": {
    "pycharm": {
     "is_executing": true
    }
   },
   "outputs": [],
   "source": [
    "import tensorflow as tf\n",
    "# import cv2\n",
    "import tensorflow.keras as K\n",
    "from tensorflow.keras import Sequential\n",
    "from tensorflow.keras.layers import Conv2D,LeakyReLU,BatchNormalization,Activation, MaxPooling2D, Dropout, Dense, Flatten, \\\n",
    "    GlobalAveragePooling2D,  SeparableConv2D, GlobalMaxPooling2D,Input,Layer,add\n"
   ]
  },
  {
   "cell_type": "code",
   "execution_count": 6,
   "metadata": {},
   "outputs": [],
   "source": [
    "def cbl_cell(img_input,filters,kernels,stride=(1,1)):\n",
    "    origin = Conv2D(filters, kernels,strides =stride,use_bias=False,padding='SAME')(img_input)\n",
    "    x = BatchNormalization()(origin)\n",
    "    x = LeakyReLU(alpha=0.05)(x)\n",
    "    return x"
   ]
  },
  {
   "cell_type": "code",
   "execution_count": 3,
   "metadata": {},
   "outputs": [
    {
     "name": "stdout",
     "output_type": "stream",
     "text": [
      "Metal device set to: Apple M1\n"
     ]
    },
    {
     "name": "stderr",
     "output_type": "stream",
     "text": [
      "2021-11-16 22:15:10.336586: I tensorflow/core/common_runtime/pluggable_device/pluggable_device_factory.cc:305] Could not identify NUMA node of platform GPU ID 0, defaulting to 0. Your kernel may not have been built with NUMA support.\n",
      "2021-11-16 22:15:10.336844: I tensorflow/core/common_runtime/pluggable_device/pluggable_device_factory.cc:271] Created TensorFlow device (/job:localhost/replica:0/task:0/device:GPU:0 with 0 MB memory) -> physical PluggableDevice (device: 0, name: METAL, pci bus id: <undefined>)\n"
     ]
    },
    {
     "data": {
      "text/plain": [
       "<KerasTensor: shape=(None, 441, 399, 32) dtype=float32 (created by layer 'leaky_re_lu')>"
      ]
     },
     "execution_count": 3,
     "metadata": {},
     "output_type": "execute_result"
    }
   ],
   "source": [
    "img_input = Input(shape=(441,399,1))\n",
    "x = cbl_cell(img_input)\n",
    "x"
   ]
  },
  {
   "cell_type": "code",
   "execution_count": 3,
   "metadata": {},
   "outputs": [],
   "source": [
    "def res1(inputs,filter_num,stride=(1,1)):\n",
    "    x = cbl_cell(inputs,filter_num,stride)\n",
    "    x = cbl_cell(inputs,2*filter_num,stride)\n",
    "    x = add([inputs,x])\n",
    "    return x\n",
    "    "
   ]
  },
  {
   "cell_type": "code",
   "execution_count": 4,
   "metadata": {},
   "outputs": [],
   "source": [
    "def static_res_block(inputs,filters,n):\n",
    "    x = res1(inputs, filters)\n",
    "    for i in range(n - 1):\n",
    "        x = res1(x, filters)\n",
    "    return x"
   ]
  },
  {
   "cell_type": "code",
   "execution_count": 19,
   "metadata": {},
   "outputs": [],
   "source": [
    "x = static_res_block(x,32,2)"
   ]
  },
  {
   "cell_type": "code",
   "execution_count": 7,
   "metadata": {},
   "outputs": [
    {
     "data": {
      "text/plain": [
       "<KerasTensor: shape=(None, 14, 13, 1024) dtype=float32 (created by layer 'add_42')>"
      ]
     },
     "execution_count": 7,
     "metadata": {},
     "output_type": "execute_result"
    }
   ],
   "source": [
    "img_input = Input(shape=(441,399,1))\n",
    "x = cbl_cell(img_input,32,(3,3))\n",
    "x = cbl_cell(x,64,(3,3),(2,2))\n",
    "x = static_res_block(x,32,1)\n",
    "x = cbl_cell(x,128,(3,3),(2,2))\n",
    "x = static_res_block(x,64,2)\n",
    "x = cbl_cell(x,256,(3,3),(2,2))\n",
    "x = static_res_block(x,128,8)\n",
    "x = cbl_cell(x,512,(3,3),(2,2))\n",
    "x = static_res_block(x,256,8)\n",
    "x = cbl_cell(x,1024,(3,3),(2,2))\n",
    "x = static_res_block(x,512,4)\n",
    "x"
   ]
  },
  {
   "cell_type": "code",
   "execution_count": null,
   "metadata": {},
   "outputs": [],
   "source": []
  }
 ],
 "metadata": {
  "kernelspec": {
   "display_name": "Python 3 (ipykernel)",
   "language": "python",
   "name": "python3"
  },
  "language_info": {
   "codemirror_mode": {
    "name": "ipython",
    "version": 3
   },
   "file_extension": ".py",
   "mimetype": "text/x-python",
   "name": "python",
   "nbconvert_exporter": "python",
   "pygments_lexer": "ipython3",
   "version": "3.9.7"
  }
 },
 "nbformat": 4,
 "nbformat_minor": 1
}